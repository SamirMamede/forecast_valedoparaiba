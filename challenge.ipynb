{
 "cells": [
  {
   "cell_type": "code",
   "execution_count": 2,
   "metadata": {},
   "outputs": [
    {
     "name": "stdout",
     "output_type": "stream",
     "text": [
      "Commit Repository\n"
     ]
    }
   ],
   "source": [
    "import findspark\n",
    "findspark.init()\n",
    "\n",
    "import requests\n",
    "#from pyspark.sql.types import StringType, StructType, StructField\n",
    "from pyspark.sql import SparkSession\n",
    "\n",
    "\n",
    "spark = (SparkSession.builder\n",
    "      .master(\"local[1]\")\n",
    "      .appName(\"ChallengeDataside.com\")\n",
    "      .getOrCreate())\n",
    "\n",
    "requisicao = requests.get(\"https://servicodados.ibge.gov.br/api/v1/localidades/mesorregioes/3513/municipios\")\n",
    "df_cities = requisicao.json()\n",
    "\n",
    "data = df_cities\n",
    "df = spark.createDataFrame(data)\n",
    "df.createOrReplaceTempView(\"Cities\")\n",
    "#spark.sql(\"select nome from Cities\").show()\n",
    "\n",
    "API_KEY = \"*******************************\"\n",
    "\n",
    "municipio = \"Aparecida\"\n",
    "link = f\"https://api.openweathermap.org/data/2.5/forecast?q={municipio}&appid={API_KEY}&lang=pt_br\"\n",
    "requisicaoApi = requests.get(link)\n",
    "requisicaoApi_dic = requisicaoApi.json()\n",
    "df_aparecida = requisicaoApi_dic\n",
    "#print(df_aparecida)\n",
    "cidade = requisicaoApi_dic['city']['name']\n",
    "codigo_cidade = requisicaoApi_dic['city']['id']\n",
    "data_previsao = requisicaoApi_dic['list'][0]['dt_txt']\n",
    "regiao = \"Vale do Paraíba\"\n",
    "print(\"Commit Repository\")\n",
    "\n",
    "\n",
    "\n",
    "#contador = 0\n",
    "#data = []\n",
    "#for _ in range(len(df_cities)):\n",
    "#      cidades = df_cities[contador]['nome']\n",
    "#      contador += 1\n",
    "#      data.append([f\"{contador}\"] + [cidades] + [\"SP\"])\n",
    "               \n",
    "#schema = (StructType([\n",
    "#      StructField('Id', StringType(), True),\n",
    "#      StructField('Municipio', StringType(), True),\n",
    "#      StructField('UF   ', StringType(), True),\n",
    "#]))\n",
    "\n",
    "#df = spark.createDataFrame(data=data, schema=schema)\n",
    "#df.createOrReplaceTempView(\"Cities\")\n",
    "#spark.sql(\"select * from Cities\").show()\n",
    "\n",
    "\n"
   ]
  }
 ],
 "metadata": {
  "kernelspec": {
   "display_name": "Python 3.10.2 64-bit",
   "language": "python",
   "name": "python3"
  },
  "language_info": {
   "codemirror_mode": {
    "name": "ipython",
    "version": 3
   },
   "file_extension": ".py",
   "mimetype": "text/x-python",
   "name": "python",
   "nbconvert_exporter": "python",
   "pygments_lexer": "ipython3",
   "version": "3.10.2"
  },
  "orig_nbformat": 4,
  "vscode": {
   "interpreter": {
    "hash": "453bc5b675eb846f0ba0571fd39835635f9d4e66e04b930f76e3cdabab5655b2"
   }
  }
 },
 "nbformat": 4,
 "nbformat_minor": 2
}
