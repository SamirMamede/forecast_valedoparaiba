{
 "cells": [
  {
   "cell_type": "code",
   "execution_count": 2,
   "metadata": {},
   "outputs": [
    {
     "name": "stdout",
     "output_type": "stream",
     "text": [
      "Commit Repository\n"
     ]
    }
   ],
   "source": [
    "import requests\n",
    "from pyspark.sql.types import *\n",
    "from pyspark.sql import *\n",
    "from pyspark.sql import SparkSession\n",
    "\n",
    "\n",
    "spark = (SparkSession.builder\n",
    "      .master(\"local[1]\")\n",
    "      .appName(\"ChallengeData.com\")\n",
    "      .getOrCreate())\n",
    "\n",
    "requisicao = requests.get(\"https://servicodados.ibge.gov.br/api/v1/localidades/mesorregioes/3513/municipios\")\n",
    "df_cities = requisicao.json()\n",
    "\n",
    "df_datas_1 = spark.createDataFrame(df_cities)\n",
    "df_datas_1.createOrReplaceTempView(\"Cities\")\n",
    "\n",
    "API_KEY = \"*******************************\"\n",
    "\n",
    "stateCode = \"SP\"\n",
    "countryCode = \"BR\"\n",
    "\n",
    "data_forecast = []\n",
    "contador = 0\n",
    "for _ in range(39):\n",
    "    municipio = df_cities[contador]['nome']\n",
    "    link = f\"https://api.openweathermap.org/data/2.5/forecast?q={municipio},{stateCode},{countryCode}&appid={API_KEY}&lang=pt_br\"\n",
    "    requisicaoApi = requests.get(link)\n",
    "    requisicaoApiDic = requisicaoApi.json()\n",
    "    data_forecast.append([requisicaoApiDic])\n",
    "    contador +=1\n",
    "\n",
    "\n",
    "dfForecast = spark.createDataFrame(data_forecast)\n",
    "dfForecast.createOrReplaceTempView(\"Forecast\")"
   ]
  }
 ],
 "metadata": {
  "kernelspec": {
   "display_name": "Python 3.10.2 64-bit",
   "language": "python",
   "name": "python3"
  },
  "language_info": {
   "codemirror_mode": {
    "name": "ipython",
    "version": 3
   },
   "file_extension": ".py",
   "mimetype": "text/x-python",
   "name": "python",
   "nbconvert_exporter": "python",
   "pygments_lexer": "ipython3",
   "version": "3.10.2"
  },
  "orig_nbformat": 4,
  "vscode": {
   "interpreter": {
    "hash": "453bc5b675eb846f0ba0571fd39835635f9d4e66e04b930f76e3cdabab5655b2"
   }
  }
 },
 "nbformat": 4,
 "nbformat_minor": 2
}
