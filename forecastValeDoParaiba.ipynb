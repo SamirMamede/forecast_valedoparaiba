{
 "cells": [
  {
   "cell_type": "code",
   "execution_count": 2,
   "metadata": {},
   "outputs": [
    {
     "name": "stdout",
     "output_type": "stream",
     "text": [
      "Commit Repository\n"
     ]
    }
   ],
   "source": [
    "import findspark\n",
    "findspark.init()\n",
    "import datetime\n",
    "import requests\n",
    "from pyspark.sql.types import StringType, StructType, StructField\n",
    "from pyspark.sql import SparkSession\n",
    "\n",
    "\n",
    "spark = (SparkSession.builder\n",
    "      .master(\"local[1]\")\n",
    "      .appName(\"ChallengeDatas.com\")\n",
    "      .getOrCreate())\n",
    "\n",
    "requisicao = requests.get(\"https://servicodados.ibge.gov.br/api/v1/localidades/mesorregioes/3513/municipios\")\n",
    "dfCities = requisicao.json()\n",
    "dataRequest = dfCities\n",
    "df = spark.createDataFrame(dataRequest)\n",
    "df.createOrReplaceTempView(\"Cities\")\n",
    "\n",
    "\n",
    "API_KEY = \"*******************************\"\n",
    "\n",
    "data = []\n",
    "contador = 0\n",
    "\n",
    "for _ in range(len(dataRequest)):\n",
    "      municipio = dataRequest[contador]['nome']\n",
    "      link = f\"https://api.openweathermap.org/data/2.5/forecast?q={municipio}&appid={API_KEY}&lang=pt_br\"\n",
    "      requisicaoApi = requests.get(link)\n",
    "      requisicaoApiDic = requisicaoApi.json()\n",
    "      \n",
    "\n",
    "      requisicaoApiDic['list'][0]['weather'][0]['main'] = requisicaoApiDic['list'][0]['weather'][0]['main'].replace(\"Rain\", \"Sim\")\n",
    "      requisicaoApiDic['list'][0]['weather'][0]['main'] = requisicaoApiDic['list'][0]['weather'][0]['main'].replace(\"Clear\", \"Não\")\n",
    "      requisicaoApiDic['list'][0]['weather'][0]['main'] = requisicaoApiDic['list'][0]['weather'][0]['main'].replace(\"Clouds\", \"Não\")\n",
    "\n",
    "      cidade = requisicaoApiDic['city']['name']\n",
    "      codigoCidade = requisicaoApiDic['city']['id']\n",
    "      dataPrevisao = requisicaoApiDic['list'][0]['dt_txt']\n",
    "      regiao = ''\n",
    "      pais = requisicaoApiDic['city']['country']\n",
    "      lat = requisicaoApiDic['city']['coord']['lat']\n",
    "      long = requisicaoApiDic['city']['coord']['lon']\n",
    "      tempMax = requisicaoApiDic['list'][0]['main']['temp_max'] - 273.15\n",
    "      tempMin = requisicaoApiDic['list'][0]['main']['temp_min'] - 273.15\n",
    "      temperaturaMedia = (requisicaoApiDic['list'][0]['main']['temp_max'] - 273.15 + requisicaoApiDic['list'][0]['main']['temp_min'] - 273.15) / 2\n",
    "      tempMed = temperaturaMedia\n",
    "      vaiChover = requisicaoApiDic['list'][0]['weather'][0]['main']\n",
    "      chanceDeChuva = ''\n",
    "      condicaoDoTempo = requisicaoApiDic['list'][0]['weather'][0]['description']\n",
    "      nascerDoSol = requisicaoApiDic['city']['sunrise']\n",
    "      nascerDoSol = datetime.datetime.fromtimestamp(nascerDoSol).strftime('%H:%M:%S')\n",
    "      porDoSOl = requisicaoApiDic['city']['sunset']\n",
    "      porDoSOl = datetime.datetime.fromtimestamp(porDoSOl).strftime('%H:%M:%S')\n",
    "\n",
    "      velocidadeDoVento = requisicaoApiDic['list'][0]['wind']['speed']\n",
    "      \n",
    "      \n",
    "      data.append([cidade, codigoCidade, dataPrevisao, regiao, pais, lat, long, tempMax, tempMin, tempMed, vaiChover, \n",
    "      chanceDeChuva, condicaoDoTempo, nascerDoSol, porDoSOl, velocidadeDoVento])\n",
    "\n",
    "      contador += 1\n",
    "\n",
    "dataForecast = data\n",
    "\n",
    "schema = (StructType([\n",
    "      StructField('Cidade', StringType(), True),\n",
    "      StructField('CodigoDaCidade', StringType(), True),\n",
    "      StructField('Data', StringType(), True),\n",
    "      StructField('Regiao', StringType(), True),\n",
    "      StructField('Pais', StringType(), True),\n",
    "      StructField('Latitude', StringType(), True),\n",
    "      StructField('Longitude', StringType(), True),\n",
    "      StructField('TemperaturaMaxima', StringType(), True),\n",
    "      StructField('TemperaturaMinima', StringType(), True),\n",
    "      StructField('TemperaturaMedia', StringType(), True),\n",
    "      StructField('VaiChover', StringType(), True),\n",
    "      StructField('ChanceDeChuva', StringType(), True),\n",
    "      StructField('CondicaoDoTempo', StringType(), True),\n",
    "      StructField('NascerDoSol', StringType(), True),\n",
    "      StructField('PorDoSol', StringType(), True),\n",
    "      StructField('VelocidadeMaximaDoVento', StringType(), True),\n",
    "]))\n",
    "\n",
    "\n",
    "dfData = spark.createDataFrame(data=dataForecast, schema=schema)\n",
    "dfData.createOrReplaceTempView(\"Forecast\")\n",
    "spark.sql(\"select VaiChover from Forecast\").show()\n",
    "\n",
    "\n"
   ]
  }
 ],
 "metadata": {
  "kernelspec": {
   "display_name": "Python 3.10.2 64-bit",
   "language": "python",
   "name": "python3"
  },
  "language_info": {
   "codemirror_mode": {
    "name": "ipython",
    "version": 3
   },
   "file_extension": ".py",
   "mimetype": "text/x-python",
   "name": "python",
   "nbconvert_exporter": "python",
   "pygments_lexer": "ipython3",
   "version": "3.10.2"
  },
  "orig_nbformat": 4,
  "vscode": {
   "interpreter": {
    "hash": "453bc5b675eb846f0ba0571fd39835635f9d4e66e04b930f76e3cdabab5655b2"
   }
  }
 },
 "nbformat": 4,
 "nbformat_minor": 2
}
